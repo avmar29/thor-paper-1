{
 "cells": [
  {
   "cell_type": "markdown",
   "metadata": {
    "id": "FyaK-TtD8kGE"
   },
   "source": [
    "#Using Tabula Sapiens as a reference for annotating new datasets\n",
    "This notebook allows you to annotate your data with a number of annotation methods using the Tabula Sapiens dataset as the reference. \n",
    "\n",
    "Initial setup: \n",
    "1. Make sure GPU is enabled (Runtime -> Change Runtime Type -> Hardware Accelerator -> GPU)\n",
    "2. We also highly recommend getting Colab PRO for access to a high ram session.\n",
    "\n",
    "\n",
    "Integration Methods Provided:\n",
    "- scVI\n",
    "- bbKNN\n",
    "- scanorama\n",
    "\n",
    "Annotation Methods:\n",
    "- KNN on integrated spaces\n",
    "- scANVI\n",
    "- onClass\n",
    "- SVM\n",
    "- RandomForest\n",
    "\n",
    "To use the notebook, simply connect to your Google Drive account, set the necessary arguments, select your methods, and run all the code blocks!\n",
    "\n",
    "**User action is only required in Step 2 and Step 3.**\n",
    "\n",
    "Last edited: 5/13/2021\n",
    "\n"
   ]
  },
  {
   "cell_type": "markdown",
   "metadata": {
    "id": "ut6kts5M8Z-B"
   },
   "source": [
    "# Step 1: Setup Environment \n",
    "No user input required here."
   ]
  },
  {
   "cell_type": "code",
   "execution_count": 1,
   "metadata": {
    "id": "ObY9kyf7exOx",
    "tags": []
   },
   "outputs": [],
   "source": [
    "%%capture\n",
    "#@title Setup Colab\n",
    "#@markdown Here we install the necessary packages\n",
    "#@markdown This will take a few minutes (~5 min)\n",
    "#import sys\n",
    "#import os\n",
    "#!pip install --quiet obonet\n",
    "#!pip install --quiet --upgrade jsonschema\n",
    "#!pip install --quiet bbknn\n",
    "#!pip install --quiet git+https://github.com/wangshenguiuc/OnClass@21232f293a549a7ee0da8ebe3cbb22df3e885d4c\n",
    "#!pip install --quiet git+https://github.com/yoseflab/scvi-tools@master#egg=scvi-tools[tutorials]\n",
    "#!pip install --quiet imgkit\n",
    "#!pip install --quiet gdown\n",
    "#!pip install --quiet --upgrade scanorama\n",
    "#!pip install scikit-learn==0.22.2\n",
    "#!pip install importlib-metadata==1.7.0\n",
    "\n",
    "# Download annoation code\n",
    "#!wget -O annotation.py -q https://www.dropbox.com/s/id8sallwrunjc5c/annotation.py?dl=1"
   ]
  },
  {
   "cell_type": "code",
   "execution_count": 5,
   "metadata": {
    "colab": {
     "base_uri": "https://localhost:8080/"
    },
    "id": "tEuMQRDLxrPj",
    "outputId": "54da57a1-71d8-457b-a4e6-73232673a3b8"
   },
   "outputs": [],
   "source": [
    "import sys\n",
    "import os\n",
    "import anndata\n",
    "import numpy as np\n",
    "import scanpy as sc\n",
    "import scvi"
   ]
  },
  {
   "cell_type": "markdown",
   "metadata": {
    "id": "VpVgmKEnvzUU"
   },
   "source": [
    "# Step 2: Load your data (User Action Required)\n",
    "Here we provide three options to load your data:\n",
    "1. Connect to Google Drive (highly recommended)\n",
    "2. Download your data from the cloud and save into this session or on Google drive.\n",
    "3. Upload your data manually into this session (files are not persistent and will be deleted when session is closed)\n",
    "\n",
    "As an example, we use a subsampled version of the [Lung Cell Atlas](https://hlca.ds.czbiohub.org/) \\[1] for our query data.\n",
    "\n",
    "\\[1] Travaglini, K. et al. A molecular cell atlas of the human lung from single-cell RNA sequencing. *Nature* **587**, 619–625(2020)."
   ]
  },
  {
   "cell_type": "code",
   "execution_count": 5,
   "metadata": {},
   "outputs": [
    {
     "data": {
      "text/plain": [
       "'/faststorage/project/THOR/anton/sc_athero'"
      ]
     },
     "execution_count": 5,
     "metadata": {},
     "output_type": "execute_result"
    }
   ],
   "source": [
    "# Get working directory\n",
    "os.getcwd()"
   ]
  },
  {
   "cell_type": "code",
   "execution_count": null,
   "metadata": {
    "id": "L2F9yH7fw_ph"
   },
   "outputs": [],
   "source": [
    "# OPTION 1: Connect to Google Drive\n",
    "# This is the recomended method especially for large datasets\n",
    "#from google.colab import drive    \n",
    "#drive.mount('/content/drive')\n",
    "\n",
    "query_adata = anndata.read('/content/drive/MyDrive/WORKING/sc_athero/sc_athero_comb.h5ad')"
   ]
  },
  {
   "cell_type": "code",
   "execution_count": null,
   "metadata": {
    "id": "QZHIok40xjSj"
   },
   "outputs": [],
   "source": [
    "# OPTION 2: Downloading from the cloud (Dropbox, AWS, Google Drive, etc)\n",
    "# Google Colab supports wget, curl, and gdown commands\n",
    "# It is recommended to download the data into Google Drive and read from there.\n",
    "# This way your data will be persistent.\n",
    "!wget <YOUR URL>\n",
    "query_adata = anndata.read('/path/to/your/anndata')"
   ]
  },
  {
   "cell_type": "code",
   "execution_count": 6,
   "metadata": {
    "id": "MJFh6g9mtH-I"
   },
   "outputs": [],
   "source": [
    "# OPTION 3: Uploading data manually\n",
    "# Click the folder icon on the left navigation bar, and select the upload icon\n",
    "# Note: Manually uploaded data is automatically deleted when the colab session ends\n",
    "# This is not recommended if your dataset is very large\n",
    "query_adata = anndata.read('sc_athero_comb.h5ad')"
   ]
  },
  {
   "cell_type": "code",
   "execution_count": 9,
   "metadata": {
    "id": "5yAp16C0bh57"
   },
   "outputs": [],
   "source": [
    "# Download an example dataset:\n",
    "#!wget -O LCA.h5ad https://www.dropbox.com/s/mrf8y7emfupo4he/LCA.h5ad?dl=1\n",
    "query_adata = anndata.read('LCA.h5ad')"
   ]
  },
  {
   "cell_type": "code",
   "execution_count": 7,
   "metadata": {
    "colab": {
     "base_uri": "https://localhost:8080/"
    },
    "id": "EEkFk6AA094D",
    "outputId": "0fa8c8ba-82aa-4810-f5ea-6dea5c9590da"
   },
   "outputs": [
    {
     "name": "stdout",
     "output_type": "stream",
     "text": [
      "AnnData object with n_obs × n_vars = 71880 × 25461\n",
      "    obs: 'orig.ident', 'nCount_RNA', 'nFeature_RNA', 'sample_id', 'percent_mito', 'percent_ribo', 'percent_hb', 'nCount_SCT', 'nFeature_SCT', 'dataset_author', 'singler', 'integrated_snn_res.0.5', 'seurat_clusters', 'integrated_snn_res.0.4', 'integrated_snn_res.0.3'\n",
      "    var: 'name'\n",
      "    obsm: 'X_pca', 'X_umap', 'X_tsne'\n"
     ]
    },
    {
     "data": {
      "text/html": [
       "<div>\n",
       "<style scoped>\n",
       "    .dataframe tbody tr th:only-of-type {\n",
       "        vertical-align: middle;\n",
       "    }\n",
       "\n",
       "    .dataframe tbody tr th {\n",
       "        vertical-align: top;\n",
       "    }\n",
       "\n",
       "    .dataframe thead th {\n",
       "        text-align: right;\n",
       "    }\n",
       "</style>\n",
       "<table border=\"1\" class=\"dataframe\">\n",
       "  <thead>\n",
       "    <tr style=\"text-align: right;\">\n",
       "      <th></th>\n",
       "      <th>orig.ident</th>\n",
       "      <th>nCount_RNA</th>\n",
       "      <th>nFeature_RNA</th>\n",
       "      <th>sample_id</th>\n",
       "      <th>percent_mito</th>\n",
       "      <th>percent_ribo</th>\n",
       "      <th>percent_hb</th>\n",
       "      <th>nCount_SCT</th>\n",
       "      <th>nFeature_SCT</th>\n",
       "      <th>dataset_author</th>\n",
       "      <th>singler</th>\n",
       "      <th>integrated_snn_res.0.5</th>\n",
       "      <th>seurat_clusters</th>\n",
       "      <th>integrated_snn_res.0.4</th>\n",
       "      <th>integrated_snn_res.0.3</th>\n",
       "    </tr>\n",
       "    <tr>\n",
       "      <th>index</th>\n",
       "      <th></th>\n",
       "      <th></th>\n",
       "      <th></th>\n",
       "      <th></th>\n",
       "      <th></th>\n",
       "      <th></th>\n",
       "      <th></th>\n",
       "      <th></th>\n",
       "      <th></th>\n",
       "      <th></th>\n",
       "      <th></th>\n",
       "      <th></th>\n",
       "      <th></th>\n",
       "      <th></th>\n",
       "      <th></th>\n",
       "    </tr>\n",
       "  </thead>\n",
       "  <tbody>\n",
       "    <tr>\n",
       "      <th>GSM4837523_AAACCCAAGATTAGAC-1</th>\n",
       "      <td>alsaigh</td>\n",
       "      <td>12045.0</td>\n",
       "      <td>2976</td>\n",
       "      <td>GSM4837523</td>\n",
       "      <td>2.523869</td>\n",
       "      <td>19.186384</td>\n",
       "      <td>0.008302</td>\n",
       "      <td>5726.0</td>\n",
       "      <td>2311</td>\n",
       "      <td>Alsaigh</td>\n",
       "      <td>Monocyte</td>\n",
       "      <td>9</td>\n",
       "      <td>6</td>\n",
       "      <td>10</td>\n",
       "      <td>6</td>\n",
       "    </tr>\n",
       "    <tr>\n",
       "      <th>GSM4837523_AAACCCAAGCATGTTC-1</th>\n",
       "      <td>alsaigh</td>\n",
       "      <td>5559.0</td>\n",
       "      <td>1546</td>\n",
       "      <td>GSM4837523</td>\n",
       "      <td>3.741680</td>\n",
       "      <td>34.304731</td>\n",
       "      <td>0.000000</td>\n",
       "      <td>5204.0</td>\n",
       "      <td>1546</td>\n",
       "      <td>Alsaigh</td>\n",
       "      <td>T_cells</td>\n",
       "      <td>1</td>\n",
       "      <td>1</td>\n",
       "      <td>2</td>\n",
       "      <td>1</td>\n",
       "    </tr>\n",
       "    <tr>\n",
       "      <th>GSM4837523_AAACCCAAGCCTGTCG-1</th>\n",
       "      <td>alsaigh</td>\n",
       "      <td>1517.0</td>\n",
       "      <td>599</td>\n",
       "      <td>GSM4837523</td>\n",
       "      <td>7.119314</td>\n",
       "      <td>26.631510</td>\n",
       "      <td>0.000000</td>\n",
       "      <td>4051.0</td>\n",
       "      <td>724</td>\n",
       "      <td>Alsaigh</td>\n",
       "      <td>T_cells</td>\n",
       "      <td>0</td>\n",
       "      <td>0</td>\n",
       "      <td>0</td>\n",
       "      <td>0</td>\n",
       "    </tr>\n",
       "    <tr>\n",
       "      <th>GSM4837523_AAACCCAAGGGTTTCT-1</th>\n",
       "      <td>alsaigh</td>\n",
       "      <td>9347.0</td>\n",
       "      <td>2587</td>\n",
       "      <td>GSM4837523</td>\n",
       "      <td>1.754574</td>\n",
       "      <td>12.282016</td>\n",
       "      <td>0.010699</td>\n",
       "      <td>5707.0</td>\n",
       "      <td>2408</td>\n",
       "      <td>Alsaigh</td>\n",
       "      <td>Monocyte</td>\n",
       "      <td>9</td>\n",
       "      <td>6</td>\n",
       "      <td>10</td>\n",
       "      <td>6</td>\n",
       "    </tr>\n",
       "    <tr>\n",
       "      <th>GSM4837523_AAACCCAAGTGCACCC-1</th>\n",
       "      <td>alsaigh</td>\n",
       "      <td>12135.0</td>\n",
       "      <td>2659</td>\n",
       "      <td>GSM4837523</td>\n",
       "      <td>1.829419</td>\n",
       "      <td>17.313556</td>\n",
       "      <td>0.148331</td>\n",
       "      <td>5626.0</td>\n",
       "      <td>2006</td>\n",
       "      <td>Alsaigh</td>\n",
       "      <td>Monocyte</td>\n",
       "      <td>8</td>\n",
       "      <td>6</td>\n",
       "      <td>10</td>\n",
       "      <td>6</td>\n",
       "    </tr>\n",
       "    <tr>\n",
       "      <th>...</th>\n",
       "      <td>...</td>\n",
       "      <td>...</td>\n",
       "      <td>...</td>\n",
       "      <td>...</td>\n",
       "      <td>...</td>\n",
       "      <td>...</td>\n",
       "      <td>...</td>\n",
       "      <td>...</td>\n",
       "      <td>...</td>\n",
       "      <td>...</td>\n",
       "      <td>...</td>\n",
       "      <td>...</td>\n",
       "      <td>...</td>\n",
       "      <td>...</td>\n",
       "      <td>...</td>\n",
       "    </tr>\n",
       "    <tr>\n",
       "      <th>GSM3819863_TTTGGTTCAATTGCTG-1</th>\n",
       "      <td>wirka</td>\n",
       "      <td>3254.0</td>\n",
       "      <td>1189</td>\n",
       "      <td>GSM3819863</td>\n",
       "      <td>1.290719</td>\n",
       "      <td>25.998771</td>\n",
       "      <td>0.030731</td>\n",
       "      <td>3070.0</td>\n",
       "      <td>1189</td>\n",
       "      <td>Wirka</td>\n",
       "      <td>Monocyte</td>\n",
       "      <td>2</td>\n",
       "      <td>2</td>\n",
       "      <td>1</td>\n",
       "      <td>2</td>\n",
       "    </tr>\n",
       "    <tr>\n",
       "      <th>GSM3819863_TTTGGTTTCTCTGTCG-1</th>\n",
       "      <td>wirka</td>\n",
       "      <td>8762.0</td>\n",
       "      <td>2527</td>\n",
       "      <td>GSM3819863</td>\n",
       "      <td>1.072814</td>\n",
       "      <td>11.298790</td>\n",
       "      <td>0.000000</td>\n",
       "      <td>3822.0</td>\n",
       "      <td>1929</td>\n",
       "      <td>Wirka</td>\n",
       "      <td>Smooth_muscle_cells</td>\n",
       "      <td>3</td>\n",
       "      <td>4</td>\n",
       "      <td>4</td>\n",
       "      <td>4</td>\n",
       "    </tr>\n",
       "    <tr>\n",
       "      <th>GSM3819863_TTTGTCACAAAGTGCG-1</th>\n",
       "      <td>wirka</td>\n",
       "      <td>5675.0</td>\n",
       "      <td>1929</td>\n",
       "      <td>GSM3819863</td>\n",
       "      <td>1.903084</td>\n",
       "      <td>18.290749</td>\n",
       "      <td>0.000000</td>\n",
       "      <td>3621.0</td>\n",
       "      <td>1853</td>\n",
       "      <td>Wirka</td>\n",
       "      <td>Tissue_stem_cells</td>\n",
       "      <td>5</td>\n",
       "      <td>5</td>\n",
       "      <td>5</td>\n",
       "      <td>5</td>\n",
       "    </tr>\n",
       "    <tr>\n",
       "      <th>GSM3819863_TTTGTCACAGGACCCT-1</th>\n",
       "      <td>wirka</td>\n",
       "      <td>3782.0</td>\n",
       "      <td>1519</td>\n",
       "      <td>GSM3819863</td>\n",
       "      <td>1.322052</td>\n",
       "      <td>9.809625</td>\n",
       "      <td>0.000000</td>\n",
       "      <td>3282.0</td>\n",
       "      <td>1518</td>\n",
       "      <td>Wirka</td>\n",
       "      <td>Smooth_muscle_cells</td>\n",
       "      <td>3</td>\n",
       "      <td>4</td>\n",
       "      <td>4</td>\n",
       "      <td>4</td>\n",
       "    </tr>\n",
       "    <tr>\n",
       "      <th>GSM3819863_TTTGTCAGTCACCTAA-1</th>\n",
       "      <td>wirka</td>\n",
       "      <td>2297.0</td>\n",
       "      <td>882</td>\n",
       "      <td>GSM3819863</td>\n",
       "      <td>1.480192</td>\n",
       "      <td>15.977362</td>\n",
       "      <td>0.000000</td>\n",
       "      <td>2626.0</td>\n",
       "      <td>880</td>\n",
       "      <td>Wirka</td>\n",
       "      <td>Macrophage</td>\n",
       "      <td>2</td>\n",
       "      <td>2</td>\n",
       "      <td>1</td>\n",
       "      <td>2</td>\n",
       "    </tr>\n",
       "  </tbody>\n",
       "</table>\n",
       "<p>71880 rows × 15 columns</p>\n",
       "</div>"
      ],
      "text/plain": [
       "                              orig.ident  nCount_RNA  nFeature_RNA  \\\n",
       "index                                                                \n",
       "GSM4837523_AAACCCAAGATTAGAC-1    alsaigh     12045.0          2976   \n",
       "GSM4837523_AAACCCAAGCATGTTC-1    alsaigh      5559.0          1546   \n",
       "GSM4837523_AAACCCAAGCCTGTCG-1    alsaigh      1517.0           599   \n",
       "GSM4837523_AAACCCAAGGGTTTCT-1    alsaigh      9347.0          2587   \n",
       "GSM4837523_AAACCCAAGTGCACCC-1    alsaigh     12135.0          2659   \n",
       "...                                  ...         ...           ...   \n",
       "GSM3819863_TTTGGTTCAATTGCTG-1      wirka      3254.0          1189   \n",
       "GSM3819863_TTTGGTTTCTCTGTCG-1      wirka      8762.0          2527   \n",
       "GSM3819863_TTTGTCACAAAGTGCG-1      wirka      5675.0          1929   \n",
       "GSM3819863_TTTGTCACAGGACCCT-1      wirka      3782.0          1519   \n",
       "GSM3819863_TTTGTCAGTCACCTAA-1      wirka      2297.0           882   \n",
       "\n",
       "                                sample_id  percent_mito  percent_ribo  \\\n",
       "index                                                                   \n",
       "GSM4837523_AAACCCAAGATTAGAC-1  GSM4837523      2.523869     19.186384   \n",
       "GSM4837523_AAACCCAAGCATGTTC-1  GSM4837523      3.741680     34.304731   \n",
       "GSM4837523_AAACCCAAGCCTGTCG-1  GSM4837523      7.119314     26.631510   \n",
       "GSM4837523_AAACCCAAGGGTTTCT-1  GSM4837523      1.754574     12.282016   \n",
       "GSM4837523_AAACCCAAGTGCACCC-1  GSM4837523      1.829419     17.313556   \n",
       "...                                   ...           ...           ...   \n",
       "GSM3819863_TTTGGTTCAATTGCTG-1  GSM3819863      1.290719     25.998771   \n",
       "GSM3819863_TTTGGTTTCTCTGTCG-1  GSM3819863      1.072814     11.298790   \n",
       "GSM3819863_TTTGTCACAAAGTGCG-1  GSM3819863      1.903084     18.290749   \n",
       "GSM3819863_TTTGTCACAGGACCCT-1  GSM3819863      1.322052      9.809625   \n",
       "GSM3819863_TTTGTCAGTCACCTAA-1  GSM3819863      1.480192     15.977362   \n",
       "\n",
       "                               percent_hb  nCount_SCT  nFeature_SCT  \\\n",
       "index                                                                 \n",
       "GSM4837523_AAACCCAAGATTAGAC-1    0.008302      5726.0          2311   \n",
       "GSM4837523_AAACCCAAGCATGTTC-1    0.000000      5204.0          1546   \n",
       "GSM4837523_AAACCCAAGCCTGTCG-1    0.000000      4051.0           724   \n",
       "GSM4837523_AAACCCAAGGGTTTCT-1    0.010699      5707.0          2408   \n",
       "GSM4837523_AAACCCAAGTGCACCC-1    0.148331      5626.0          2006   \n",
       "...                                   ...         ...           ...   \n",
       "GSM3819863_TTTGGTTCAATTGCTG-1    0.030731      3070.0          1189   \n",
       "GSM3819863_TTTGGTTTCTCTGTCG-1    0.000000      3822.0          1929   \n",
       "GSM3819863_TTTGTCACAAAGTGCG-1    0.000000      3621.0          1853   \n",
       "GSM3819863_TTTGTCACAGGACCCT-1    0.000000      3282.0          1518   \n",
       "GSM3819863_TTTGTCAGTCACCTAA-1    0.000000      2626.0           880   \n",
       "\n",
       "                              dataset_author              singler  \\\n",
       "index                                                               \n",
       "GSM4837523_AAACCCAAGATTAGAC-1        Alsaigh             Monocyte   \n",
       "GSM4837523_AAACCCAAGCATGTTC-1        Alsaigh              T_cells   \n",
       "GSM4837523_AAACCCAAGCCTGTCG-1        Alsaigh              T_cells   \n",
       "GSM4837523_AAACCCAAGGGTTTCT-1        Alsaigh             Monocyte   \n",
       "GSM4837523_AAACCCAAGTGCACCC-1        Alsaigh             Monocyte   \n",
       "...                                      ...                  ...   \n",
       "GSM3819863_TTTGGTTCAATTGCTG-1          Wirka             Monocyte   \n",
       "GSM3819863_TTTGGTTTCTCTGTCG-1          Wirka  Smooth_muscle_cells   \n",
       "GSM3819863_TTTGTCACAAAGTGCG-1          Wirka    Tissue_stem_cells   \n",
       "GSM3819863_TTTGTCACAGGACCCT-1          Wirka  Smooth_muscle_cells   \n",
       "GSM3819863_TTTGTCAGTCACCTAA-1          Wirka           Macrophage   \n",
       "\n",
       "                              integrated_snn_res.0.5 seurat_clusters  \\\n",
       "index                                                                  \n",
       "GSM4837523_AAACCCAAGATTAGAC-1                      9               6   \n",
       "GSM4837523_AAACCCAAGCATGTTC-1                      1               1   \n",
       "GSM4837523_AAACCCAAGCCTGTCG-1                      0               0   \n",
       "GSM4837523_AAACCCAAGGGTTTCT-1                      9               6   \n",
       "GSM4837523_AAACCCAAGTGCACCC-1                      8               6   \n",
       "...                                              ...             ...   \n",
       "GSM3819863_TTTGGTTCAATTGCTG-1                      2               2   \n",
       "GSM3819863_TTTGGTTTCTCTGTCG-1                      3               4   \n",
       "GSM3819863_TTTGTCACAAAGTGCG-1                      5               5   \n",
       "GSM3819863_TTTGTCACAGGACCCT-1                      3               4   \n",
       "GSM3819863_TTTGTCAGTCACCTAA-1                      2               2   \n",
       "\n",
       "                              integrated_snn_res.0.4 integrated_snn_res.0.3  \n",
       "index                                                                        \n",
       "GSM4837523_AAACCCAAGATTAGAC-1                     10                      6  \n",
       "GSM4837523_AAACCCAAGCATGTTC-1                      2                      1  \n",
       "GSM4837523_AAACCCAAGCCTGTCG-1                      0                      0  \n",
       "GSM4837523_AAACCCAAGGGTTTCT-1                     10                      6  \n",
       "GSM4837523_AAACCCAAGTGCACCC-1                     10                      6  \n",
       "...                                              ...                    ...  \n",
       "GSM3819863_TTTGGTTCAATTGCTG-1                      1                      2  \n",
       "GSM3819863_TTTGGTTTCTCTGTCG-1                      4                      4  \n",
       "GSM3819863_TTTGTCACAAAGTGCG-1                      5                      5  \n",
       "GSM3819863_TTTGTCACAGGACCCT-1                      4                      4  \n",
       "GSM3819863_TTTGTCAGTCACCTAA-1                      1                      2  \n",
       "\n",
       "[71880 rows x 15 columns]"
      ]
     },
     "execution_count": 7,
     "metadata": {},
     "output_type": "execute_result"
    }
   ],
   "source": [
    "print(query_adata)\n",
    "query_adata.obs"
   ]
  },
  {
   "cell_type": "code",
   "execution_count": 4,
   "metadata": {
    "colab": {
     "base_uri": "https://localhost:8080/"
    },
    "id": "Ut8XdixRxH0h",
    "outputId": "99051d05-2cd7-4ef1-b7b1-dfe3ca541760"
   },
   "outputs": [
    {
     "name": "stdout",
     "output_type": "stream",
     "text": [
      "  (0, 10)\t1.0\n",
      "  (0, 16)\t1.0\n",
      "  (0, 25)\t1.0\n",
      "  (0, 34)\t1.0\n",
      "  (0, 35)\t2.0\n",
      "  (0, 46)\t1.0\n",
      "  (0, 56)\t3.0\n",
      "  (0, 73)\t1.0\n",
      "  (0, 80)\t1.0\n",
      "  (0, 93)\t1.0\n",
      "  (0, 107)\t23.0\n",
      "  (0, 112)\t1.0\n",
      "  (0, 118)\t1.0\n",
      "  (0, 123)\t1.0\n",
      "  (0, 127)\t2.0\n",
      "  (0, 134)\t4.0\n",
      "  (0, 140)\t1.0\n",
      "  (0, 142)\t20.0\n",
      "  (0, 163)\t1.0\n",
      "  (0, 164)\t1.0\n",
      "  (0, 165)\t1.0\n",
      "  (0, 168)\t1.0\n",
      "  (0, 170)\t1.0\n",
      "  (0, 174)\t1.0\n",
      "  (0, 179)\t2.0\n",
      "  :\t:\n",
      "  (0, 21203)\t1.0\n",
      "  (0, 21205)\t1.0\n",
      "  (0, 21206)\t1.0\n",
      "  (0, 21213)\t1.0\n",
      "  (0, 21214)\t1.0\n",
      "  (0, 21216)\t1.0\n",
      "  (0, 21217)\t1.0\n",
      "  (0, 21221)\t1.0\n",
      "  (0, 21224)\t1.0\n",
      "  (0, 21228)\t6.0\n",
      "  (0, 21232)\t1.0\n",
      "  (0, 21242)\t1.0\n",
      "  (0, 21247)\t1.0\n",
      "  (0, 21248)\t12.0\n",
      "  (0, 21249)\t13.0\n",
      "  (0, 21250)\t69.0\n",
      "  (0, 21251)\t20.0\n",
      "  (0, 21252)\t1.0\n",
      "  (0, 21253)\t16.0\n",
      "  (0, 21254)\t26.0\n",
      "  (0, 21255)\t11.0\n",
      "  (0, 21256)\t4.0\n",
      "  (0, 21257)\t19.0\n",
      "  (0, 21258)\t12.0\n",
      "  (0, 21260)\t27.0\n"
     ]
    }
   ],
   "source": [
    "print(query_adata.X[12])"
   ]
  },
  {
   "cell_type": "markdown",
   "metadata": {
    "id": "ybphDSBKr-zJ"
   },
   "source": [
    "## Check that query_adata.X contains raw_counts"
   ]
  },
  {
   "cell_type": "code",
   "execution_count": 8,
   "metadata": {
    "colab": {
     "base_uri": "https://localhost:8080/",
     "height": 289
    },
    "id": "pQNjkLc9r_tJ",
    "outputId": "3da96547-6ef1-4d5a-b64e-6828eeae6f2e"
   },
   "outputs": [
    {
     "name": "stdout",
     "output_type": "stream",
     "text": [
      "WARNING:tensorflow:From /home/amarkov/miniconda3/envs/ts_anno/lib/python3.7/site-packages/tensorflow_core/python/compat/v2_compat.py:65: disable_resource_variables (from tensorflow.python.ops.variable_scope) is deprecated and will be removed in a future version.\n",
      "Instructions for updating:\n",
      "non-resource variables are not supported in the long term\n"
     ]
    },
    {
     "name": "stderr",
     "output_type": "stream",
     "text": [
      "OMP: Info #271: omp_set_nested routine deprecated, please use omp_set_max_active_levels instead.\n"
     ]
    }
   ],
   "source": [
    "#from scipy.optimize import linear_sum_assignment as linear_assignment\n",
    "from annotation import _check_nonnegative_integers\n",
    "\n",
    "assert _check_nonnegative_integers(query_adata.X) == True, 'Make sure query_adata.X contains raw_counts'"
   ]
  },
  {
   "cell_type": "markdown",
   "metadata": {
    "id": "dJ75wSqf0T3r"
   },
   "source": [
    "# Step 3: Setting Up Annotation Parameters (User Action Required)\n",
    "\n",
    "Here is where you set the parameters for the automated annotation.\n",
    "\n",
    "Arguments:\n",
    "- **tissue:** Tabula Sapiens tissue to annotate your data with. Available tissues: [\"Bladder\", \"Blood\", \"Bone_Marrow\", \"Kidney\", \"Large_Intestine\", \"Lung\",\"Lymph_Node\", \"Pancreas\", \"Small_Intestine\", \"Spleen\", \"Thymus\",\"Trachea\", \"Vasculature\"]\n",
    "- **save_location:** location to save results to. By default will save to a folder named `annotation_results`. It is highly recommended you provide a Google Drive folder here.\n",
    "- **query_batch_key:** key in `query_adata.obs` for batch correction. Set to None for no batch correction. \n",
    "- **methods:** these are the methods to run. By default, will run all methods.\n",
    "- **training_mode** can be `online` or `offline`. If `offline` will train scVI and scANVI models from scratch. If `online`, will use pretrained models.\n",
    "\n",
    "Lesser used parameters\n",
    "- **query_labels_key**: scANVI has the option to use labeled cells in the query dataset during training. To use some prelabeled cells from the query dataset, set `query_labels_key` to the corresponding key in `query_adata.obs`\n",
    "- **unknown_celltype_label**: If `query_labels_key` is not None, will treat everything not labeled `unknown_celltype_label` as a labeled cell"
   ]
  },
  {
   "cell_type": "code",
   "execution_count": 9,
   "metadata": {
    "id": "oy3pM9Gg0h6P"
   },
   "outputs": [],
   "source": [
    "\"\"\" \n",
    "tissue options: \n",
    "[\"Bladder\", \"Blood\", \"Bone_Marrow\", \"Kidney\", \"Large_Intestine\", \"Lung\",\n",
    " \"Lymph_Node\", \"Pancreas\", \"Small_Intestine\", \"Spleen\", \"Thymus\",\n",
    " \"Trachea\", \"Vasculature\"]\n",
    "\"\"\"\n",
    "tissue = 'Vasculature'\n",
    "save_folder = './'\n",
    "query_batch_key = 'sample_id'\n",
    "methods = ['bbknn','scvi', 'scanvi', 'svm', 'rf', 'onclass', 'scanorama']\n",
    "training_mode='online'\n",
    "\n",
    "# Lesser used parameters\n",
    "query_labels_key=None\n",
    "unknown_celltype_label='unknown'"
   ]
  },
  {
   "cell_type": "markdown",
   "metadata": {
    "id": "dyqZ6G0_M6UR"
   },
   "source": [
    "# Step 4: Downloading Reference Data and Pretrained Models\n",
    "No more user input required! Just run all the following code blocks."
   ]
  },
  {
   "cell_type": "code",
   "execution_count": 7,
   "metadata": {
    "colab": {
     "base_uri": "https://localhost:8080/"
    },
    "id": "7UGx4nCw1AjB",
    "outputId": "5034f37d-bf0c-4ca9-f14b-5e9869010cf6"
   },
   "outputs": [
    {
     "name": "stdout",
     "output_type": "stream",
     "text": [
      "--2022-01-07 23:20:03--  https://www.dropbox.com/s/1wt3r871kxjas5o/Vasculature.tar.gz?dl=1\n",
      "Resolving proxyserv (proxyserv)... 10.220.5.30\n",
      "Connecting to proxyserv (proxyserv)|10.220.5.30|:3128... connected.\n",
      "Proxy request sent, awaiting response... 301 Moved Permanently\n",
      "Location: /s/dl/1wt3r871kxjas5o/Vasculature.tar.gz [following]\n",
      "--2022-01-07 23:20:03--  https://www.dropbox.com/s/dl/1wt3r871kxjas5o/Vasculature.tar.gz\n",
      "Reusing existing connection to www.dropbox.com:443.\n",
      "Proxy request sent, awaiting response... No data received.\n",
      "Retrying.\n",
      "\n",
      "--2022-01-07 23:20:05--  (try: 2)  https://www.dropbox.com/s/dl/1wt3r871kxjas5o/Vasculature.tar.gz\n",
      "Connecting to proxyserv (proxyserv)|10.220.5.30|:3128... connected.\n",
      "Proxy request sent, awaiting response... 302 Found\n",
      "Location: https://uccd5d292f49919e3c48672449dc.dl.dropboxusercontent.com/cd/0/get/BdVw2FkkeXpCvAow6sRXzJN_m16oQ_KzLEghV4Ipae07rwxOWpUL-oO6BHTHzzm1UhSgSNQlc-CyvLvrgweem8qp0HDXADTbqUGBj7T3W-cjmqiwF-ZCCfFdrx_z1-5OxkOyolvWyi_9VmTLhClBMmJF/file?dl=1# [following]\n",
      "--2022-01-07 23:20:06--  https://uccd5d292f49919e3c48672449dc.dl.dropboxusercontent.com/cd/0/get/BdVw2FkkeXpCvAow6sRXzJN_m16oQ_KzLEghV4Ipae07rwxOWpUL-oO6BHTHzzm1UhSgSNQlc-CyvLvrgweem8qp0HDXADTbqUGBj7T3W-cjmqiwF-ZCCfFdrx_z1-5OxkOyolvWyi_9VmTLhClBMmJF/file?dl=1\n",
      "Connecting to proxyserv (proxyserv)|10.220.5.30|:3128... connected.\n",
      "Proxy request sent, awaiting response... 200 OK\n",
      "Length: 20534844 (20M) [application/binary]\n",
      "Saving to: ‘Vasculature.tar.gz’\n",
      "\n",
      "100%[======================================>] 20,534,844  9.24MB/s   in 2.1s   \n",
      "\n",
      "2022-01-07 23:20:10 (9.24 MB/s) - ‘Vasculature.tar.gz’ saved [20534844/20534844]\n",
      "\n",
      "Vasculature/\n",
      "Vasculature/Vasculature_scvi_model/\n",
      "Vasculature/Vasculature_scvi_model/var_names.csv\n",
      "Vasculature/Vasculature_scvi_model/model_params.pt\n",
      "Vasculature/Vasculature_scvi_model/attr.pkl\n",
      "Vasculature/Vasculature_scanvi_model/\n",
      "Vasculature/Vasculature_scanvi_model/var_names.csv\n",
      "Vasculature/Vasculature_scanvi_model/model_params.pt\n",
      "Vasculature/Vasculature_scanvi_model/attr.pkl\n",
      "--2022-01-07 23:20:21--  https://www.dropbox.com/s/y9x9yt2pi7s0d1n/cl.ontology.nlp.emb?dl=1\n",
      "Resolving proxyserv (proxyserv)... 10.220.5.30\n",
      "Connecting to proxyserv (proxyserv)|10.220.5.30|:3128... connected.\n",
      "Proxy request sent, awaiting response... 301 Moved Permanently\n",
      "Location: /s/dl/y9x9yt2pi7s0d1n/cl.ontology.nlp.emb [following]\n",
      "--2022-01-07 23:20:21--  https://www.dropbox.com/s/dl/y9x9yt2pi7s0d1n/cl.ontology.nlp.emb\n",
      "Reusing existing connection to www.dropbox.com:443.\n",
      "Proxy request sent, awaiting response... No data received.\n",
      "Retrying.\n",
      "\n",
      "--2022-01-07 23:20:23--  (try: 2)  https://www.dropbox.com/s/dl/y9x9yt2pi7s0d1n/cl.ontology.nlp.emb\n",
      "Connecting to proxyserv (proxyserv)|10.220.5.30|:3128... connected.\n",
      "Proxy request sent, awaiting response... 302 Found\n",
      "Location: https://uc2415e9843458f8293ed0c7bb6e.dl.dropboxusercontent.com/cd/0/get/BdVDITmpSESGI8Lidp68aSPgfYqUALkX4GkQ5OpEKH_AUVKbba-U7XVTbhon4v2aPA4ipC4XbByouDWIpN0FqDLuftzJBIVCvG05d3lTljNRIyjPRQFuiVXb-euXEV_K51G6IK3t25nk7FOM3n4Xeotf/file?dl=1# [following]\n",
      "--2022-01-07 23:20:24--  https://uc2415e9843458f8293ed0c7bb6e.dl.dropboxusercontent.com/cd/0/get/BdVDITmpSESGI8Lidp68aSPgfYqUALkX4GkQ5OpEKH_AUVKbba-U7XVTbhon4v2aPA4ipC4XbByouDWIpN0FqDLuftzJBIVCvG05d3lTljNRIyjPRQFuiVXb-euXEV_K51G6IK3t25nk7FOM3n4Xeotf/file?dl=1\n",
      "Connecting to proxyserv (proxyserv)|10.220.5.30|:3128... connected.\n",
      "Proxy request sent, awaiting response... 200 OK\n",
      "Length: 87624137 (84M) [application/binary]\n",
      "Saving to: ‘cl.ontology.nlp.emb’\n",
      "\n",
      "100%[======================================>] 87,624,137  20.5MB/s   in 4.6s   \n",
      "\n",
      "2022-01-07 23:20:29 (18.0 MB/s) - ‘cl.ontology.nlp.emb’ saved [87624137/87624137]\n",
      "\n"
     ]
    }
   ],
   "source": [
    "# Here we download the necessary data:\n",
    "if tissue == 'Bladder':\n",
    "  refdata_url = 'https://ndownloader.figshare.com/files/27388874'\n",
    "  pretrained_url='https://www.dropbox.com/s/rb89y577l6vs2mm/Bladder.tar.gz?dl=1'\n",
    "elif tissue == 'Blood':\n",
    "  refdata_url = 'https://ndownloader.figshare.com/files/27388853'\n",
    "  pretrained_url = 'https://www.dropbox.com/s/kyh9nv202n0db65/Blood.tar.gz?dl=1'\n",
    "elif tissue == 'Bone_Marrow':\n",
    "  refdata_url = 'https://ndownloader.figshare.com/files/27388841'\n",
    "  pretrained_url = 'https://www.dropbox.com/s/a3r4ddg7o7kua7z/Bone_Marrow.tar.gz?dl=1'\n",
    "elif tissue == 'Kidney':\n",
    "  refdata_url = 'https://ndownloader.figshare.com/files/27388838'\n",
    "  pretrained_url = 'https://www.dropbox.com/s/k41r1a346z0tuip/Kidney.tar.gz?dl=1'\n",
    "elif tissue == 'Large_Intestine':\n",
    "  refdata_url = 'https://ndownloader.figshare.com/files/27388835'\n",
    "  pretrained_url = 'https://www.dropbox.com/s/jwvpk727hd54byd/Large_Intestine.tar.gz?dl=1'\n",
    "elif tissue == 'Lung':\n",
    "  refdata_url = 'https://ndownloader.figshare.com/files/27388832'\n",
    "  pretrained_url = 'https://www.dropbox.com/s/e4al4ia9hm9qtcg/Lung.tar.gz?dl=1'\n",
    "elif tissue == 'Lymph_Node':\n",
    "  refdata_url = 'https://ndownloader.figshare.com/files/27388715'\n",
    "  pretrained_url = 'https://www.dropbox.com/s/mbejy9tcbx9e1yv/Lymph_Node.tar.gz?dl=1'\n",
    "elif tissue == 'Pancreas':\n",
    "  refdata_url = 'https://ndownloader.figshare.com/files/27388613'\n",
    "  pretrained_url = 'https://www.dropbox.com/s/r3klvr22m6kq143/Pancreas.tar.gz?dl=1'\n",
    "elif tissue == 'Small_Intestine':\n",
    "  refdata_url = 'https://ndownloader.figshare.com/files/27388559'\n",
    "  pretrained_url = 'https://www.dropbox.com/s/7eiv2mke70jinzc/Small_Intestine.tar.gz?dl=1'\n",
    "elif tissue == 'Spleen':\n",
    "  refdata_url = 'https://ndownloader.figshare.com/files/27388544'\n",
    "  pretrained_url = 'https://www.dropbox.com/s/6j3iwahsjnb8rb3/Spleen.tar.gz?dl=1'\n",
    "elif tissue == 'Thymus':\n",
    "  refdata_url = 'https://ndownloader.figshare.com/files/27388505'\n",
    "  pretrained_url='https://www.dropbox.com/s/9k0mneu2wvpiudz/Thymus.tar.gz?dl=1'\n",
    "elif tissue == 'Trachea':\n",
    "  refdata_url = 'https://ndownloader.figshare.com/files/27388460'\n",
    "  pretrained_url = 'https://www.dropbox.com/s/57tthfgkl8jtxk6/Trachea.tar.gz?dl=1'\n",
    "elif tissue == 'Vasculature':\n",
    "  refdata_url = 'https://ndownloader.figshare.com/files/27388451'\n",
    "  pretrained_url='https://www.dropbox.com/s/1wt3r871kxjas5o/Vasculature.tar.gz?dl=1'\n",
    "\n",
    "# Download reference dataset\n",
    "output_fn = 'TS_{}.h5ad'.format(tissue)\n",
    "!wget -O $output_fn $refdata_url\n",
    "\n",
    "# Download pretrained scVI and scANVI models.\n",
    "output_fn = '{}.tar.gz'.format(tissue)\n",
    "!wget -O $output_fn $pretrained_url\n",
    "!tar -xvzf $output_fn\n",
    "\n",
    "# Download onclass files\n",
    "!wget -O cl.obo -q https://www.dropbox.com/s/hodp0etapzrd8ak/cl.obo?dl=1 \n",
    "!wget -O cl.ontology -q https://www.dropbox.com/s/nes0zprzfbwbgj5/cl.ontology?dl=1\n",
    "!wget -O cl.ontology.nlp.emb https://www.dropbox.com/s/y9x9yt2pi7s0d1n/cl.ontology.nlp.emb?dl=1"
   ]
  },
  {
   "cell_type": "markdown",
   "metadata": {
    "id": "Q-QxpOVKsLWT",
    "tags": []
   },
   "source": [
    "## Setup the reference dataset"
   ]
  },
  {
   "cell_type": "code",
   "execution_count": 10,
   "metadata": {
    "id": "JMlq8oW3sNO_"
   },
   "outputs": [],
   "source": [
    "# read in the reference dataset\n",
    "ref_adata_path = 'TS_{}.h5ad'.format(tissue)\n",
    "ref_adata = anndata.read(ref_adata_path)"
   ]
  },
  {
   "cell_type": "code",
   "execution_count": 11,
   "metadata": {
    "id": "5OkvIrrUsPLq"
   },
   "outputs": [],
   "source": [
    "# Here we filter out the cells that were not manually annotated\n",
    "# This way we only train on expert annotated data\n",
    "ref_adata = ref_adata[ref_adata.obs[\"Manually Annotated\"] == \"True\"].copy()\n",
    "\n",
    "# We wish to correct for batch effects from donor and method\n",
    "# So we make a new batch key that will be passed to the methods\n",
    "ref_adata.obs['donor_method'] = ref_adata.obs['Donor'].astype(str) + ref_adata.obs['Method'].astype(str)\n",
    "\n",
    "# The annotation pipeline expects raw counts in the the X field\n",
    "ref_adata.X = ref_adata.layers['raw_counts']\n",
    "\n",
    "# Following parameters are specific to Tabula Sapiens dataset\n",
    "ref_labels_key='Annotation'\n",
    "ref_batch_key = 'donor_method'"
   ]
  },
  {
   "cell_type": "markdown",
   "metadata": {
    "id": "l7XpTm0LsQfP"
   },
   "source": [
    "## Check if we can use pretrained models\n"
   ]
  },
  {
   "cell_type": "code",
   "execution_count": 12,
   "metadata": {
    "colab": {
     "base_uri": "https://localhost:8080/"
    },
    "id": "npNhBJnasTXZ",
    "outputId": "216f4379-64b9-45e7-9166-296c78355caf"
   },
   "outputs": [
    {
     "name": "stdout",
     "output_type": "stream",
     "text": [
      "Not all reference genes are in query dataset. Retraining models.\n"
     ]
    }
   ],
   "source": [
    "import os\n",
    "from annotation import get_pretrained_model_genes, check_genes_is_subset\n",
    "pretrained_scanvi_path = os.path.join(tissue, tissue + \"_scanvi_model\")\n",
    "pretrained_scvi_path = os.path.join(tissue, tissue + \"_scvi_model\")\n",
    "\n",
    "training_mode='online'\n",
    "is_subset = False\n",
    "if training_mode == 'online':\n",
    "    pretrained_genes = get_pretrained_model_genes(pretrained_scvi_path)\n",
    "    query_genes = query_adata.var_names.to_numpy().astype(\"str\")\n",
    "    is_subset = check_genes_is_subset(pretrained_genes, query_genes)\n",
    "\n",
    "if is_subset and training_mode=='online':\n",
    "    ref_adata = ref_adata[:, pretrained_genes]\n",
    "else:\n",
    "    training_mode = 'offline'\n"
   ]
  },
  {
   "cell_type": "code",
   "execution_count": 13,
   "metadata": {
    "colab": {
     "base_uri": "https://localhost:8080/"
    },
    "id": "gUlJw1C1lIHO",
    "outputId": "4cd47c0d-6847-41f7-8d27-d9c7ffa7ddd1"
   },
   "outputs": [
    {
     "name": "stdout",
     "output_type": "stream",
     "text": [
      "Sampling 100 per label\n"
     ]
    },
    {
     "name": "stderr",
     "output_type": "stream",
     "text": [
      "/faststorage/project/THOR/anton/sc_athero/annotation.py:387: SettingWithCopyWarning: \n",
      "A value is trying to be set on a copy of a slice from a DataFrame\n",
      "\n",
      "See the caveats in the documentation: https://pandas.pydata.org/pandas-docs/stable/user_guide/indexing.html#returning-a-view-versus-a-copy\n",
      "  ref_adata.obs[\"_ref_subsample\"][ref_subsample_idx] = True\n",
      "/home/amarkov/miniconda3/envs/ts_anno/lib/python3.7/site-packages/pandas/core/indexing.py:670: SettingWithCopyWarning: \n",
      "A value is trying to be set on a copy of a slice from a DataFrame\n",
      "\n",
      "See the caveats in the documentation: https://pandas.pydata.org/pandas-docs/stable/user_guide/indexing.html#returning-a-view-versus-a-copy\n",
      "  iloc._setitem_with_indexer(indexer, value)\n"
     ]
    },
    {
     "name": "stdout",
     "output_type": "stream",
     "text": [
      "\u001b[34mINFO    \u001b[0m Using batches from adata.obs\u001b[1m[\u001b[0m\u001b[32m\"_batch_annotation\"\u001b[0m\u001b[1m]\u001b[0m                                   \n",
      "\u001b[34mINFO    \u001b[0m Using labels from adata.obs\u001b[1m[\u001b[0m\u001b[32m\"_labels_annotation\"\u001b[0m\u001b[1m]\u001b[0m                                   \n",
      "\u001b[34mINFO    \u001b[0m Using data from adata.layers\u001b[1m[\u001b[0m\u001b[32m\"scvi_counts\"\u001b[0m\u001b[1m]\u001b[0m                                         \n",
      "\u001b[34mINFO    \u001b[0m Computing library size prior per batch                                              \n",
      "\u001b[34mINFO    \u001b[0m Successfully registered anndata object containing \u001b[1;36m80369\u001b[0m cells, \u001b[1;36m4000\u001b[0m genes, \u001b[1;36m19\u001b[0m       \n",
      "         batches, \u001b[1;36m13\u001b[0m labels, and \u001b[1;36m0\u001b[0m proteins. Also registered \u001b[1;36m0\u001b[0m extra categorical covariates  \n",
      "         and \u001b[1;36m0\u001b[0m extra continuous covariates.                                                  \n",
      "\u001b[34mINFO    \u001b[0m Please do not further modify adata until model is trained.                          \n"
     ]
    },
    {
     "name": "stderr",
     "output_type": "stream",
     "text": [
      "... storing 'orig.ident' as categorical\n",
      "... storing 'sample_id' as categorical\n",
      "... storing 'dataset_author' as categorical\n",
      "... storing 'singler' as categorical\n",
      "... storing 'integrated_snn_res.0.5' as categorical\n",
      "... storing 'seurat_clusters' as categorical\n",
      "... storing 'integrated_snn_res.0.4' as categorical\n",
      "... storing 'integrated_snn_res.0.3' as categorical\n",
      "... storing '_batch_annotation' as categorical\n",
      "... storing '_dataset' as categorical\n",
      "... storing 'final_annotation_cell_ontology_id' as categorical\n",
      "... storing '_labels_annotation' as categorical\n",
      "... storing 'Annotation' as categorical\n",
      "... storing 'Manually Annotated' as categorical\n",
      "... storing 'Donor' as categorical\n",
      "... storing 'Method' as categorical\n",
      "... storing 'Organ' as categorical\n",
      "... storing 'Compartment' as categorical\n",
      "... storing 'Anatomical Information' as categorical\n",
      "... storing 'donor_method' as categorical\n",
      "... storing '_batch_annotation' as categorical\n",
      "... storing '_dataset' as categorical\n",
      "... storing 'final_annotation_cell_ontology_id' as categorical\n",
      "... storing '_labels_annotation' as categorical\n"
     ]
    }
   ],
   "source": [
    "# here we setup the query dataset with the reference dataset\n",
    "from annotation import process_query\n",
    "\n",
    "adata = process_query(query_adata,\n",
    "                      ref_adata,\n",
    "                      tissue=tissue,\n",
    "                      save_folder=save_folder,\n",
    "                      query_batch_key=query_batch_key,\n",
    "                      query_labels_key=query_labels_key,\n",
    "                      unknown_celltype_label=unknown_celltype_label,\n",
    "                      pretrained_scvi_path=pretrained_scvi_path,\n",
    "                      ref_labels_key=ref_labels_key, \n",
    "                      ref_batch_key=ref_batch_key,\n",
    "                      training_mode=training_mode,\n",
    "                      ref_adata_path=ref_adata_path)"
   ]
  },
  {
   "cell_type": "code",
   "execution_count": 14,
   "metadata": {
    "colab": {
     "base_uri": "https://localhost:8080/"
    },
    "id": "Hvo6Jj4SDT_9",
    "outputId": "f537dbaa-7e83-4fdf-98e9-2cb9f9361292"
   },
   "outputs": [
    {
     "name": "stdout",
     "output_type": "stream",
     "text": [
      "AnnData object with n_obs × n_vars = 80369 × 4000\n",
      "    obs: '_labels_annotation', '_batch_annotation', '_dataset', '_ref_subsample', '_scvi_batch', '_scvi_labels', '_scvi_local_l_mean', '_scvi_local_l_var'\n",
      "    var: 'mean', 'std', 'highly_variable', 'highly_variable_rank', 'means', 'variances', 'variances_norm'\n",
      "    uns: '_training_mode', 'log1p', 'hvg', 'pca', '_scvi'\n",
      "    obsm: 'X_umap', 'X_pca'\n",
      "    varm: 'PCs'\n",
      "    layers: 'scvi_counts'\n"
     ]
    },
    {
     "data": {
      "text/plain": [
       "TSP2_Vasculature_aorta_SS2_B114577_B133059_Endothelial_F7_S127       TSP2smartseq2\n",
       "TTGGGCGAGTCGAATA_TSP2_Vasculature_Aorta_10X_1_1                            TSP210X\n",
       "CTATCTACACCATATG_TSP2_Vasculature_Aorta_10X_1_1                            TSP210X\n",
       "CTAAGTGAGTGGATAT_TSP2_Vasculature_Aorta_10X_1_1                            TSP210X\n",
       "TSP2_Vasculature_aorta_SS2_B114577_B133059_Endothelial_J8_S224       TSP2smartseq2\n",
       "                                                                        ...       \n",
       "GSM3819863_TTTGGTTCAATTGCTG-1                                     GSM3819863_query\n",
       "GSM3819863_TTTGGTTTCTCTGTCG-1                                     GSM3819863_query\n",
       "GSM3819863_TTTGTCACAAAGTGCG-1                                     GSM3819863_query\n",
       "GSM3819863_TTTGTCACAGGACCCT-1                                     GSM3819863_query\n",
       "GSM3819863_TTTGTCAGTCACCTAA-1                                     GSM3819863_query\n",
       "Name: _batch_annotation, Length: 80369, dtype: object"
      ]
     },
     "execution_count": 14,
     "metadata": {},
     "output_type": "execute_result"
    }
   ],
   "source": [
    "print(adata)\n",
    "adata.obs['_batch_annotation']"
   ]
  },
  {
   "cell_type": "markdown",
   "metadata": {
    "id": "dCwpkupc_cu-"
   },
   "source": [
    "# Step 5: Run Automated Cell Annotation Methods\n",
    "No user action required. Takes about ~1 hour for a dataset for 100k cells. \n",
    "\n",
    "Your results will be saved to the folder you provided as **save_folder**.\n",
    "\n",
    "There will be the following files:\n",
    "- `annotated_query.h5ad` containing annotated query cells. The consensus annotations will be in `consensus_prediction`. There will also be a `consensus_percentage` field which is the percentage of methods that had the same prediction. \n",
    "- `annotated_query_plus_ref.h5ad` containing your query and the reference cells with predicted annotations. \n",
    "- `confusion_matrices.pdf` which contains the confusion matrices between the consensus_predictions and each individual method.\n",
    "- `csv` files containing the metrics for each confusion matrix. \n"
   ]
  },
  {
   "cell_type": "code",
   "execution_count": 18,
   "metadata": {},
   "outputs": [
    {
     "name": "stdout",
     "output_type": "stream",
     "text": [
      "online\n"
     ]
    }
   ],
   "source": [
    "#methods = ['bbknn','scvi', 'scanvi', 'svm', 'rf', 'onclass', 'scanorama']\n",
    "methods = ['bbknn','scvi', 'scanvi', 'svm', 'rf', 'scanorama']\n",
    "\n",
    "adata.uns['_training_mode'] = 'online'\n",
    "print(adata.uns['_training_mode'])"
   ]
  },
  {
   "cell_type": "code",
   "execution_count": null,
   "metadata": {
    "colab": {
     "base_uri": "https://localhost:8080/"
    },
    "id": "JwzfBs0tuwxJ",
    "outputId": "c4c2bf75-dfd2-4daf-ff8e-80abcb5d435c"
   },
   "outputs": [
    {
     "name": "stdout",
     "output_type": "stream",
     "text": [
      "Integrating data with bbknn.\n"
     ]
    }
   ],
   "source": [
    "import annotation\n",
    "from annotation import annotate_data\n",
    "annotate_data(adata,\n",
    "              methods, \n",
    "              save_folder,\n",
    "              pretrained_scvi_path=pretrained_scvi_path,\n",
    "              pretrained_scanvi_path=pretrained_scanvi_path)"
   ]
  },
  {
   "cell_type": "markdown",
   "metadata": {
    "id": "x_TFWRp_z_of"
   },
   "source": [
    "# Step 6 Generate Statistics and Figures\n",
    "No user action required."
   ]
  },
  {
   "cell_type": "code",
   "execution_count": 14,
   "metadata": {
    "id": "Wu5CgFlZz80z"
   },
   "outputs": [
    {
     "name": "stdout",
     "output_type": "stream",
     "text": [
      "ERROR! Session/line number was not unique in database. History logging moved to new session 15\n"
     ]
    }
   ],
   "source": [
    "import pandas as pd\n",
    "import matplotlib.pyplot as plt\n",
    "\n",
    "results_file = os.path.join(save_folder,'annotated_query_plus_ref.h5ad')\n",
    "results = anndata.read(results_file)"
   ]
  },
  {
   "cell_type": "code",
   "execution_count": null,
   "metadata": {
    "colab": {
     "base_uri": "https://localhost:8080/",
     "height": 1000
    },
    "id": "Eeohu193vsSa",
    "outputId": "284e7b13-432a-48a8-99d1-ca98a2cabfd1"
   },
   "outputs": [
    {
     "name": "stderr",
     "output_type": "stream",
     "text": [
      "ERROR:root:Internal Python error in the inspect module.\n",
      "Below is the traceback from this internal error.\n",
      "\n",
      "ERROR:root:Internal Python error in the inspect module.\n",
      "Below is the traceback from this internal error.\n",
      "\n",
      "ERROR:root:Internal Python error in the inspect module.\n",
      "Below is the traceback from this internal error.\n",
      "\n"
     ]
    },
    {
     "name": "stdout",
     "output_type": "stream",
     "text": [
      "Making confusion matrix for knn_on_bbknn_pred\n",
      "Traceback (most recent call last):\n",
      "  File \"D:\\Apps\\Miniconda3\\envs\\sc\\lib\\site-packages\\pandas\\core\\indexes\\base.py\", line 2898, in get_loc\n",
      "    return self._engine.get_loc(casted_key)\n",
      "  File \"pandas\\_libs\\index.pyx\", line 70, in pandas._libs.index.IndexEngine.get_loc\n",
      "  File \"pandas\\_libs\\index.pyx\", line 101, in pandas._libs.index.IndexEngine.get_loc\n",
      "  File \"pandas\\_libs\\hashtable_class_helper.pxi\", line 1675, in pandas._libs.hashtable.PyObjectHashTable.get_item\n",
      "  File \"pandas\\_libs\\hashtable_class_helper.pxi\", line 1683, in pandas._libs.hashtable.PyObjectHashTable.get_item\n",
      "KeyError: 'consensus_prediction'\n",
      "\n",
      "The above exception was the direct cause of the following exception:\n",
      "\n",
      "Traceback (most recent call last):\n",
      "  File \"D:\\Apps\\Miniconda3\\envs\\sc\\lib\\site-packages\\IPython\\core\\interactiveshell.py\", line 3457, in run_code\n",
      "    exec(code_obj, self.user_global_ns, self.user_ns)\n",
      "  File \"C:\\Users\\alone\\AppData\\Local\\Temp/ipykernel_3156/3563741615.py\", line 16, in <module>\n",
      "    make_agreement_plots(results, methods=pred_keys, save_folder=save_folder)\n",
      "  File \"G:\\sc_athero\\annotation.py\", line 129, in make_agreement_plots\n",
      "    adata.obs[y_label],\n",
      "  File \"D:\\Apps\\Miniconda3\\envs\\sc\\lib\\site-packages\\pandas\\core\\frame.py\", line 2906, in __getitem__\n",
      "    indexer = self.columns.get_loc(key)\n",
      "  File \"D:\\Apps\\Miniconda3\\envs\\sc\\lib\\site-packages\\pandas\\core\\indexes\\base.py\", line 2900, in get_loc\n",
      "    raise KeyError(key) from err\n",
      "KeyError: 'consensus_prediction'\n",
      "\n",
      "During handling of the above exception, another exception occurred:\n",
      "\n",
      "Traceback (most recent call last):\n",
      "  File \"D:\\Apps\\Miniconda3\\envs\\sc\\lib\\site-packages\\IPython\\core\\interactiveshell.py\", line 2077, in showtraceback\n",
      "    stb = value._render_traceback_()\n",
      "AttributeError: 'KeyError' object has no attribute '_render_traceback_'\n",
      "\n",
      "During handling of the above exception, another exception occurred:\n",
      "\n",
      "Traceback (most recent call last):\n",
      "  File \"D:\\Apps\\Miniconda3\\envs\\sc\\lib\\site-packages\\IPython\\core\\ultratb.py\", line 1101, in get_records\n",
      "    return _fixed_getinnerframes(etb, number_of_lines_of_context, tb_offset)\n",
      "  File \"D:\\Apps\\Miniconda3\\envs\\sc\\lib\\site-packages\\IPython\\core\\ultratb.py\", line 248, in wrapped\n",
      "    return f(*args, **kwargs)\n",
      "  File \"D:\\Apps\\Miniconda3\\envs\\sc\\lib\\site-packages\\IPython\\core\\ultratb.py\", line 281, in _fixed_getinnerframes\n",
      "    records = fix_frame_records_filenames(inspect.getinnerframes(etb, context))\n",
      "  File \"D:\\Apps\\Miniconda3\\envs\\sc\\lib\\inspect.py\", line 1502, in getinnerframes\n",
      "    frameinfo = (tb.tb_frame,) + getframeinfo(tb, context)\n",
      "  File \"D:\\Apps\\Miniconda3\\envs\\sc\\lib\\inspect.py\", line 1460, in getframeinfo\n",
      "    filename = getsourcefile(frame) or getfile(frame)\n",
      "  File \"D:\\Apps\\Miniconda3\\envs\\sc\\lib\\inspect.py\", line 696, in getsourcefile\n",
      "    if getattr(getmodule(object, filename), '__loader__', None) is not None:\n",
      "  File \"D:\\Apps\\Miniconda3\\envs\\sc\\lib\\inspect.py\", line 733, in getmodule\n",
      "    if ismodule(module) and hasattr(module, '__file__'):\n",
      "  File \"D:\\Apps\\Miniconda3\\envs\\sc\\lib\\site-packages\\tensorflow\\__init__.py\", line 50, in __getattr__\n",
      "    module = self._load()\n",
      "  File \"D:\\Apps\\Miniconda3\\envs\\sc\\lib\\site-packages\\tensorflow\\__init__.py\", line 44, in _load\n",
      "    module = _importlib.import_module(self.__name__)\n",
      "  File \"D:\\Apps\\Miniconda3\\envs\\sc\\lib\\importlib\\__init__.py\", line 127, in import_module\n",
      "    return _bootstrap._gcd_import(name[level:], package, level)\n",
      "  File \"<frozen importlib._bootstrap>\", line 1006, in _gcd_import\n",
      "  File \"<frozen importlib._bootstrap>\", line 983, in _find_and_load\n",
      "  File \"<frozen importlib._bootstrap>\", line 965, in _find_and_load_unlocked\n",
      "ModuleNotFoundError: No module named 'tensorflow_core.estimator'\n",
      "Traceback (most recent call last):\n",
      "  File \"D:\\Apps\\Miniconda3\\envs\\sc\\lib\\site-packages\\pandas\\core\\indexes\\base.py\", line 2898, in get_loc\n",
      "    return self._engine.get_loc(casted_key)\n",
      "  File \"pandas\\_libs\\index.pyx\", line 70, in pandas._libs.index.IndexEngine.get_loc\n",
      "  File \"pandas\\_libs\\index.pyx\", line 101, in pandas._libs.index.IndexEngine.get_loc\n",
      "  File \"pandas\\_libs\\hashtable_class_helper.pxi\", line 1675, in pandas._libs.hashtable.PyObjectHashTable.get_item\n",
      "  File \"pandas\\_libs\\hashtable_class_helper.pxi\", line 1683, in pandas._libs.hashtable.PyObjectHashTable.get_item\n",
      "KeyError: 'consensus_prediction'\n",
      "\n",
      "The above exception was the direct cause of the following exception:\n",
      "\n",
      "Traceback (most recent call last):\n",
      "  File \"D:\\Apps\\Miniconda3\\envs\\sc\\lib\\site-packages\\IPython\\core\\interactiveshell.py\", line 3457, in run_code\n",
      "    exec(code_obj, self.user_global_ns, self.user_ns)\n",
      "  File \"C:\\Users\\alone\\AppData\\Local\\Temp/ipykernel_3156/3563741615.py\", line 16, in <module>\n",
      "    make_agreement_plots(results, methods=pred_keys, save_folder=save_folder)\n",
      "  File \"G:\\sc_athero\\annotation.py\", line 129, in make_agreement_plots\n",
      "    adata.obs[y_label],\n",
      "  File \"D:\\Apps\\Miniconda3\\envs\\sc\\lib\\site-packages\\pandas\\core\\frame.py\", line 2906, in __getitem__\n",
      "    indexer = self.columns.get_loc(key)\n",
      "  File \"D:\\Apps\\Miniconda3\\envs\\sc\\lib\\site-packages\\pandas\\core\\indexes\\base.py\", line 2900, in get_loc\n",
      "    raise KeyError(key) from err\n",
      "KeyError: 'consensus_prediction'\n",
      "\n",
      "During handling of the above exception, another exception occurred:\n",
      "\n",
      "Traceback (most recent call last):\n",
      "  File \"D:\\Apps\\Miniconda3\\envs\\sc\\lib\\site-packages\\IPython\\core\\interactiveshell.py\", line 2077, in showtraceback\n",
      "    stb = value._render_traceback_()\n",
      "AttributeError: 'KeyError' object has no attribute '_render_traceback_'\n",
      "\n",
      "During handling of the above exception, another exception occurred:\n",
      "\n",
      "Traceback (most recent call last):\n",
      "  File \"D:\\Apps\\Miniconda3\\envs\\sc\\lib\\site-packages\\IPython\\core\\interactiveshell.py\", line 3377, in run_ast_nodes\n",
      "    if (await self.run_code(code, result,  async_=asy)):\n",
      "  File \"D:\\Apps\\Miniconda3\\envs\\sc\\lib\\site-packages\\IPython\\core\\interactiveshell.py\", line 3474, in run_code\n",
      "    self.showtraceback(running_compiled_code=True)\n",
      "  File \"D:\\Apps\\Miniconda3\\envs\\sc\\lib\\site-packages\\IPython\\core\\interactiveshell.py\", line 2080, in showtraceback\n",
      "    value, tb, tb_offset=tb_offset)\n",
      "  File \"D:\\Apps\\Miniconda3\\envs\\sc\\lib\\site-packages\\IPython\\core\\ultratb.py\", line 1368, in structured_traceback\n",
      "    self, etype, value, tb, tb_offset, number_of_lines_of_context)\n",
      "  File \"D:\\Apps\\Miniconda3\\envs\\sc\\lib\\site-packages\\IPython\\core\\ultratb.py\", line 1268, in structured_traceback\n",
      "    self, etype, value, tb, tb_offset, number_of_lines_of_context\n",
      "  File \"D:\\Apps\\Miniconda3\\envs\\sc\\lib\\site-packages\\IPython\\core\\ultratb.py\", line 1125, in structured_traceback\n",
      "    tb_offset)\n",
      "  File \"D:\\Apps\\Miniconda3\\envs\\sc\\lib\\site-packages\\IPython\\core\\ultratb.py\", line 1082, in format_exception_as_a_whole\n",
      "    last_unique, recursion_repeat = find_recursion(orig_etype, evalue, records)\n",
      "  File \"D:\\Apps\\Miniconda3\\envs\\sc\\lib\\site-packages\\IPython\\core\\ultratb.py\", line 382, in find_recursion\n",
      "    return len(records), 0\n",
      "TypeError: object of type 'NoneType' has no len()\n",
      "\n",
      "During handling of the above exception, another exception occurred:\n",
      "\n",
      "Traceback (most recent call last):\n",
      "  File \"D:\\Apps\\Miniconda3\\envs\\sc\\lib\\site-packages\\IPython\\core\\interactiveshell.py\", line 2077, in showtraceback\n",
      "    stb = value._render_traceback_()\n",
      "AttributeError: 'TypeError' object has no attribute '_render_traceback_'\n",
      "\n",
      "During handling of the above exception, another exception occurred:\n",
      "\n",
      "Traceback (most recent call last):\n",
      "  File \"D:\\Apps\\Miniconda3\\envs\\sc\\lib\\site-packages\\IPython\\core\\ultratb.py\", line 1101, in get_records\n",
      "    return _fixed_getinnerframes(etb, number_of_lines_of_context, tb_offset)\n",
      "  File \"D:\\Apps\\Miniconda3\\envs\\sc\\lib\\site-packages\\IPython\\core\\ultratb.py\", line 248, in wrapped\n",
      "    return f(*args, **kwargs)\n",
      "  File \"D:\\Apps\\Miniconda3\\envs\\sc\\lib\\site-packages\\IPython\\core\\ultratb.py\", line 281, in _fixed_getinnerframes\n",
      "    records = fix_frame_records_filenames(inspect.getinnerframes(etb, context))\n",
      "  File \"D:\\Apps\\Miniconda3\\envs\\sc\\lib\\inspect.py\", line 1502, in getinnerframes\n",
      "    frameinfo = (tb.tb_frame,) + getframeinfo(tb, context)\n",
      "  File \"D:\\Apps\\Miniconda3\\envs\\sc\\lib\\inspect.py\", line 1460, in getframeinfo\n",
      "    filename = getsourcefile(frame) or getfile(frame)\n",
      "  File \"D:\\Apps\\Miniconda3\\envs\\sc\\lib\\inspect.py\", line 696, in getsourcefile\n",
      "    if getattr(getmodule(object, filename), '__loader__', None) is not None:\n",
      "  File \"D:\\Apps\\Miniconda3\\envs\\sc\\lib\\inspect.py\", line 733, in getmodule\n",
      "    if ismodule(module) and hasattr(module, '__file__'):\n",
      "  File \"D:\\Apps\\Miniconda3\\envs\\sc\\lib\\site-packages\\tensorflow\\__init__.py\", line 50, in __getattr__\n",
      "    module = self._load()\n",
      "  File \"D:\\Apps\\Miniconda3\\envs\\sc\\lib\\site-packages\\tensorflow\\__init__.py\", line 44, in _load\n",
      "    module = _importlib.import_module(self.__name__)\n",
      "  File \"D:\\Apps\\Miniconda3\\envs\\sc\\lib\\importlib\\__init__.py\", line 127, in import_module\n",
      "    return _bootstrap._gcd_import(name[level:], package, level)\n",
      "  File \"<frozen importlib._bootstrap>\", line 1006, in _gcd_import\n",
      "  File \"<frozen importlib._bootstrap>\", line 983, in _find_and_load\n",
      "  File \"<frozen importlib._bootstrap>\", line 965, in _find_and_load_unlocked\n",
      "ModuleNotFoundError: No module named 'tensorflow_core.estimator'\n",
      "Traceback (most recent call last):\n",
      "  File \"D:\\Apps\\Miniconda3\\envs\\sc\\lib\\site-packages\\pandas\\core\\indexes\\base.py\", line 2898, in get_loc\n",
      "    return self._engine.get_loc(casted_key)\n",
      "  File \"pandas\\_libs\\index.pyx\", line 70, in pandas._libs.index.IndexEngine.get_loc\n",
      "  File \"pandas\\_libs\\index.pyx\", line 101, in pandas._libs.index.IndexEngine.get_loc\n",
      "  File \"pandas\\_libs\\hashtable_class_helper.pxi\", line 1675, in pandas._libs.hashtable.PyObjectHashTable.get_item\n",
      "  File \"pandas\\_libs\\hashtable_class_helper.pxi\", line 1683, in pandas._libs.hashtable.PyObjectHashTable.get_item\n",
      "KeyError: 'consensus_prediction'\n",
      "\n",
      "The above exception was the direct cause of the following exception:\n",
      "\n",
      "Traceback (most recent call last):\n",
      "  File \"D:\\Apps\\Miniconda3\\envs\\sc\\lib\\site-packages\\IPython\\core\\interactiveshell.py\", line 3457, in run_code\n",
      "    exec(code_obj, self.user_global_ns, self.user_ns)\n",
      "  File \"C:\\Users\\alone\\AppData\\Local\\Temp/ipykernel_3156/3563741615.py\", line 16, in <module>\n",
      "    make_agreement_plots(results, methods=pred_keys, save_folder=save_folder)\n",
      "  File \"G:\\sc_athero\\annotation.py\", line 129, in make_agreement_plots\n",
      "    adata.obs[y_label],\n",
      "  File \"D:\\Apps\\Miniconda3\\envs\\sc\\lib\\site-packages\\pandas\\core\\frame.py\", line 2906, in __getitem__\n",
      "    indexer = self.columns.get_loc(key)\n",
      "  File \"D:\\Apps\\Miniconda3\\envs\\sc\\lib\\site-packages\\pandas\\core\\indexes\\base.py\", line 2900, in get_loc\n",
      "    raise KeyError(key) from err\n",
      "KeyError: 'consensus_prediction'\n",
      "\n",
      "During handling of the above exception, another exception occurred:\n",
      "\n",
      "Traceback (most recent call last):\n",
      "  File \"D:\\Apps\\Miniconda3\\envs\\sc\\lib\\site-packages\\IPython\\core\\interactiveshell.py\", line 2077, in showtraceback\n",
      "    stb = value._render_traceback_()\n",
      "AttributeError: 'KeyError' object has no attribute '_render_traceback_'\n",
      "\n",
      "During handling of the above exception, another exception occurred:\n",
      "\n",
      "Traceback (most recent call last):\n",
      "  File \"D:\\Apps\\Miniconda3\\envs\\sc\\lib\\site-packages\\IPython\\core\\interactiveshell.py\", line 3377, in run_ast_nodes\n",
      "    if (await self.run_code(code, result,  async_=asy)):\n",
      "  File \"D:\\Apps\\Miniconda3\\envs\\sc\\lib\\site-packages\\IPython\\core\\interactiveshell.py\", line 3474, in run_code\n",
      "    self.showtraceback(running_compiled_code=True)\n",
      "  File \"D:\\Apps\\Miniconda3\\envs\\sc\\lib\\site-packages\\IPython\\core\\interactiveshell.py\", line 2080, in showtraceback\n",
      "    value, tb, tb_offset=tb_offset)\n",
      "  File \"D:\\Apps\\Miniconda3\\envs\\sc\\lib\\site-packages\\IPython\\core\\ultratb.py\", line 1368, in structured_traceback\n",
      "    self, etype, value, tb, tb_offset, number_of_lines_of_context)\n",
      "  File \"D:\\Apps\\Miniconda3\\envs\\sc\\lib\\site-packages\\IPython\\core\\ultratb.py\", line 1268, in structured_traceback\n",
      "    self, etype, value, tb, tb_offset, number_of_lines_of_context\n",
      "  File \"D:\\Apps\\Miniconda3\\envs\\sc\\lib\\site-packages\\IPython\\core\\ultratb.py\", line 1125, in structured_traceback\n",
      "    tb_offset)\n",
      "  File \"D:\\Apps\\Miniconda3\\envs\\sc\\lib\\site-packages\\IPython\\core\\ultratb.py\", line 1082, in format_exception_as_a_whole\n",
      "    last_unique, recursion_repeat = find_recursion(orig_etype, evalue, records)\n",
      "  File \"D:\\Apps\\Miniconda3\\envs\\sc\\lib\\site-packages\\IPython\\core\\ultratb.py\", line 382, in find_recursion\n",
      "    return len(records), 0\n",
      "TypeError: object of type 'NoneType' has no len()\n",
      "\n",
      "During handling of the above exception, another exception occurred:\n",
      "\n",
      "Traceback (most recent call last):\n",
      "  File \"D:\\Apps\\Miniconda3\\envs\\sc\\lib\\site-packages\\IPython\\core\\interactiveshell.py\", line 2077, in showtraceback\n",
      "    stb = value._render_traceback_()\n",
      "AttributeError: 'TypeError' object has no attribute '_render_traceback_'\n",
      "\n",
      "During handling of the above exception, another exception occurred:\n",
      "\n",
      "Traceback (most recent call last):\n",
      "  File \"D:\\Apps\\Miniconda3\\envs\\sc\\lib\\site-packages\\IPython\\core\\interactiveshell.py\", line 2960, in _run_cell\n",
      "    return runner(coro)\n",
      "  File \"D:\\Apps\\Miniconda3\\envs\\sc\\lib\\site-packages\\IPython\\core\\async_helpers.py\", line 78, in _pseudo_sync_runner\n",
      "    coro.send(None)\n",
      "  File \"D:\\Apps\\Miniconda3\\envs\\sc\\lib\\site-packages\\IPython\\core\\interactiveshell.py\", line 3186, in run_cell_async\n",
      "    interactivity=interactivity, compiler=compiler, result=result)\n",
      "  File \"D:\\Apps\\Miniconda3\\envs\\sc\\lib\\site-packages\\IPython\\core\\interactiveshell.py\", line 3396, in run_ast_nodes\n",
      "    self.showtraceback()\n",
      "  File \"D:\\Apps\\Miniconda3\\envs\\sc\\lib\\site-packages\\IPython\\core\\interactiveshell.py\", line 2080, in showtraceback\n",
      "    value, tb, tb_offset=tb_offset)\n",
      "  File \"D:\\Apps\\Miniconda3\\envs\\sc\\lib\\site-packages\\IPython\\core\\ultratb.py\", line 1368, in structured_traceback\n",
      "    self, etype, value, tb, tb_offset, number_of_lines_of_context)\n",
      "  File \"D:\\Apps\\Miniconda3\\envs\\sc\\lib\\site-packages\\IPython\\core\\ultratb.py\", line 1268, in structured_traceback\n",
      "    self, etype, value, tb, tb_offset, number_of_lines_of_context\n",
      "  File \"D:\\Apps\\Miniconda3\\envs\\sc\\lib\\site-packages\\IPython\\core\\ultratb.py\", line 1143, in structured_traceback\n",
      "    chained_exceptions_tb_offset)\n",
      "  File \"D:\\Apps\\Miniconda3\\envs\\sc\\lib\\site-packages\\IPython\\core\\ultratb.py\", line 1082, in format_exception_as_a_whole\n",
      "    last_unique, recursion_repeat = find_recursion(orig_etype, evalue, records)\n",
      "  File \"D:\\Apps\\Miniconda3\\envs\\sc\\lib\\site-packages\\IPython\\core\\ultratb.py\", line 382, in find_recursion\n",
      "    return len(records), 0\n",
      "TypeError: object of type 'NoneType' has no len()\n",
      "\n",
      "During handling of the above exception, another exception occurred:\n",
      "\n",
      "Traceback (most recent call last):\n",
      "  File \"D:\\Apps\\Miniconda3\\envs\\sc\\lib\\site-packages\\IPython\\core\\interactiveshell.py\", line 2077, in showtraceback\n",
      "    stb = value._render_traceback_()\n",
      "AttributeError: 'TypeError' object has no attribute '_render_traceback_'\n",
      "\n",
      "During handling of the above exception, another exception occurred:\n",
      "\n",
      "Traceback (most recent call last):\n",
      "  File \"D:\\Apps\\Miniconda3\\envs\\sc\\lib\\site-packages\\IPython\\core\\ultratb.py\", line 1101, in get_records\n",
      "    return _fixed_getinnerframes(etb, number_of_lines_of_context, tb_offset)\n",
      "  File \"D:\\Apps\\Miniconda3\\envs\\sc\\lib\\site-packages\\IPython\\core\\ultratb.py\", line 248, in wrapped\n",
      "    return f(*args, **kwargs)\n",
      "  File \"D:\\Apps\\Miniconda3\\envs\\sc\\lib\\site-packages\\IPython\\core\\ultratb.py\", line 281, in _fixed_getinnerframes\n",
      "    records = fix_frame_records_filenames(inspect.getinnerframes(etb, context))\n",
      "  File \"D:\\Apps\\Miniconda3\\envs\\sc\\lib\\inspect.py\", line 1502, in getinnerframes\n",
      "    frameinfo = (tb.tb_frame,) + getframeinfo(tb, context)\n",
      "  File \"D:\\Apps\\Miniconda3\\envs\\sc\\lib\\inspect.py\", line 1460, in getframeinfo\n",
      "    filename = getsourcefile(frame) or getfile(frame)\n",
      "  File \"D:\\Apps\\Miniconda3\\envs\\sc\\lib\\inspect.py\", line 696, in getsourcefile\n",
      "    if getattr(getmodule(object, filename), '__loader__', None) is not None:\n",
      "  File \"D:\\Apps\\Miniconda3\\envs\\sc\\lib\\inspect.py\", line 733, in getmodule\n",
      "    if ismodule(module) and hasattr(module, '__file__'):\n",
      "  File \"D:\\Apps\\Miniconda3\\envs\\sc\\lib\\site-packages\\tensorflow\\__init__.py\", line 50, in __getattr__\n",
      "    module = self._load()\n",
      "  File \"D:\\Apps\\Miniconda3\\envs\\sc\\lib\\site-packages\\tensorflow\\__init__.py\", line 44, in _load\n",
      "    module = _importlib.import_module(self.__name__)\n",
      "  File \"D:\\Apps\\Miniconda3\\envs\\sc\\lib\\importlib\\__init__.py\", line 127, in import_module\n",
      "    return _bootstrap._gcd_import(name[level:], package, level)\n",
      "  File \"<frozen importlib._bootstrap>\", line 1006, in _gcd_import\n",
      "  File \"<frozen importlib._bootstrap>\", line 983, in _find_and_load\n",
      "  File \"<frozen importlib._bootstrap>\", line 965, in _find_and_load_unlocked\n",
      "ModuleNotFoundError: No module named 'tensorflow_core.estimator'\n"
     ]
    }
   ],
   "source": [
    "from annotation import make_agreement_plots\n",
    "all_prediction_keys = [\n",
    "        \"knn_on_bbknn_pred\",\n",
    "        \"knn_on_scvi_online_pred\",\n",
    "        \"knn_on_scvi_offline_pred\",\n",
    "        \"scanvi_online_pred\",\n",
    "        \"scanvi_offline_pred\",\n",
    "        \"svm_pred\",\n",
    "        \"rf_pred\",\n",
    "        \"onclass_pred\",\n",
    "        \"knn_on_scanorama_pred\",\n",
    "    ]\n",
    "\n",
    "obs_keys = adata.obs.keys()\n",
    "pred_keys = [key for key in obs_keys if key in all_prediction_keys]\n",
    "make_agreement_plots(results, methods=pred_keys, save_folder=save_folder)\n",
    "\n",
    "is_query = results.obs._dataset == \"query\"\n",
    "methods = [x for x in results.obs.columns if x.endswith(\"_pred\")]\n",
    "labels = results.obs.consensus_prediction.astype(str)\n",
    "labels[~is_query] = results[~is_query].obs._labels_annotation.astype(str)\n",
    "celltypes = np.unique(labels)\n",
    "latent_methods = results.obsm.keys()"
   ]
  },
  {
   "cell_type": "markdown",
   "metadata": {
    "id": "WI8sjQAr0DzQ"
   },
   "source": [
    "### Distribution of consensus percentage\n",
    "The more the algorithms agree with each other, the better the annotation has worked"
   ]
  },
  {
   "cell_type": "code",
   "execution_count": null,
   "metadata": {
    "colab": {
     "base_uri": "https://localhost:8080/",
     "height": 244
    },
    "id": "fyxXtP-10CMX",
    "outputId": "f8ac0620-5002-4f2a-f47a-0ff0d668d5e9"
   },
   "outputs": [
    {
     "data": {
      "image/png": "[encoded data removed]",
      "text/plain": [
       "<Figure size 288x216 with 1 Axes>"
      ]
     },
     "metadata": {
      "needs_background": "light",
      "tags": []
     },
     "output_type": "display_data"
    }
   ],
   "source": [
    "agreement_counts = pd.DataFrame(\n",
    "    np.unique(results[is_query].obs[\"consensus_percentage\"], return_counts=True)\n",
    ").T\n",
    "\n",
    "agreement_counts.columns = [\"Percent Agreement\", \"Count\"]\n",
    "agreement_counts.plot.bar(\n",
    "    x=\"Percent Agreement\", y=\"Count\", legend=False, figsize=(4, 3)\n",
    ")\n",
    "plt.ylabel(\"Frequency\")\n",
    "plt.xlabel(\"Percent of Algorithms Agreeing with Majority Vote\")\n",
    "figpath = os.path.join(save_folder, \"Concensus_Percentage_barplot.pdf\")\n",
    "plt.savefig(figpath, bbox_inches=\"tight\")"
   ]
  },
  {
   "cell_type": "markdown",
   "metadata": {
    "id": "JMNOeINk0HbC"
   },
   "source": [
    "### Per cell type agreement\n",
    "Some cell types can be better predicted than others, and we can highlight the celltypes that are poorly predicted by looking at the per celltype agreement. The cell types are separated by the concensus predictions."
   ]
  },
  {
   "cell_type": "code",
   "execution_count": null,
   "metadata": {
    "colab": {
     "base_uri": "https://localhost:8080/",
     "height": 337
    },
    "id": "1IQFZqAY0G-U",
    "outputId": "0768737a-f53f-49d1-b80c-95d411b807b3"
   },
   "outputs": [
    {
     "data": {
      "image/png": "[encoded data removed]",
      "text/plain": [
       "<Figure size 1080x144 with 1 Axes>"
      ]
     },
     "metadata": {
      "needs_background": "light",
      "tags": []
     },
     "output_type": "display_data"
    }
   ],
   "source": [
    "mean_agreement = [\n",
    "    np.mean(results[is_query & (labels == x)].obs[\"consensus_percentage\"].astype(float))\n",
    "    for x in celltypes\n",
    "]\n",
    "mean_agreement = pd.DataFrame([mean_agreement], index=[\"agreement\"]).T\n",
    "mean_agreement.index = celltypes\n",
    "\n",
    "mean_agreement = mean_agreement.sort_values(\"agreement\", ascending=True)\n",
    "mean_agreement.plot.bar(y=\"agreement\", figsize=(15, 2), legend=False)\n",
    "plt.ylabel(\"Mean Agreement\")\n",
    "plt.xticks(rotation=290, ha=\"left\")\n",
    "figpath = os.path.join(save_folder, \"percelltype_agreement_barplot.pdf\")\n",
    "plt.savefig(figpath, bbox_inches=\"tight\")"
   ]
  },
  {
   "cell_type": "markdown",
   "metadata": {
    "id": "FepGX1bJ0K_1"
   },
   "source": [
    "### Cell type proportion plot"
   ]
  },
  {
   "cell_type": "code",
   "execution_count": null,
   "metadata": {
    "id": "TcHPVfxQ0KWa"
   },
   "outputs": [],
   "source": [
    "prop = pd.DataFrame(index=celltypes, columns=[\"ref\", \"query\"])\n",
    "for x in celltypes:\n",
    "    prop.loc[x, \"query\"] = np.sum(labels[is_query] == x)\n",
    "    prop.loc[x, \"ref\"] = np.sum(labels[~is_query] == x)\n"
   ]
  },
  {
   "cell_type": "code",
   "execution_count": null,
   "metadata": {
    "colab": {
     "base_uri": "https://localhost:8080/",
     "height": 326
    },
    "id": "8gif9Vea0KYv",
    "outputId": "eb640ae5-87f7-44ea-ba5b-20ec3e5a1439"
   },
   "outputs": [
    {
     "data": {
      "image/png": "[encoded data removed]",
      "text/plain": [
       "<Figure size 1296x288 with 1 Axes>"
      ]
     },
     "metadata": {
      "needs_background": "light",
      "tags": []
     },
     "output_type": "display_data"
    }
   ],
   "source": [
    "prop.loc[mean_agreement.index].plot(kind='bar', figsize=(len(celltypes)*0.5,4),logy=True)\n",
    "plt.legend(bbox_to_anchor=(1, 0.9))\n",
    "plt.ylabel('log Celltype Abundance')\n",
    "plt.tight_layout()\n",
    "figpath = os.path.join(save_folder, 'celltype_prop_barplot.pdf')\n",
    "plt.savefig(figpath, bbox_inches=\"tight\")\n",
    "plt.show()\n",
    "plt.close()\n"
   ]
  }
 ],
 "metadata": {
  "accelerator": "GPU",
  "colab": {
   "collapsed_sections": [],
   "machine_shape": "hm",
   "name": "Copy of Automated Cell Annotation.ipynb",
   "provenance": []
  },
  "kernelspec": {
   "display_name": "Python 3 (ipykernel)",
   "language": "python",
   "name": "python3"
  },
  "language_info": {
   "codemirror_mode": {
    "name": "ipython",
    "version": 3
   },
   "file_extension": ".py",
   "mimetype": "text/x-python",
   "name": "python",
   "nbconvert_exporter": "python",
   "pygments_lexer": "ipython3",
   "version": "3.7.12"
  }
 },
 "nbformat": 4,
 "nbformat_minor": 4
}
